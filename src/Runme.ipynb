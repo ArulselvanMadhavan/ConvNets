{
 "cells": [
  {
   "cell_type": "code",
   "execution_count": 1,
   "metadata": {
    "collapsed": true
   },
   "outputs": [],
   "source": [
    "import numpy as np\n",
    "from cnn.Worker import Worker\n",
    "from cnn.GradientUpdates.StochasticGradientUpdate import StochasticGradientUpdate\n",
    "from cnn.ConvolutionalNeuralNetwork import ConvolutionalNeuralNetwork"
   ]
  },
  {
   "cell_type": "code",
   "execution_count": 2,
   "metadata": {
    "collapsed": false
   },
   "outputs": [
    {
     "name": "stdout",
     "output_type": "stream",
     "text": [
      "Loading ../data/train.h5 file\n",
      "List of arrays in this file: \n",
      " KeysViewWithLock(<HDF5 file \"train.h5\" (mode r)>)\n",
      "Loading ../data/test.h5 file\n",
      "List of arrays in this file: \n",
      " KeysViewWithLock(<HDF5 file \"test.h5\" (mode r)>)\n",
      "(50000, 3072)\t(50000,)\t(10000, 3072)\t(10000,)\n",
      "\n",
      "loss: 77.642055 after (Iteration 1 / 40)\n",
      "loss: 76.114405 after (Iteration 2 / 40)\n",
      "(Epoch 1 / 20) train_acc: 0.180000; val_acc: 0.125000\n",
      "loss: 70.063745 after (Iteration 3 / 40)\n",
      "loss: 71.747519 after (Iteration 4 / 40)\n",
      "(Epoch 2 / 20) train_acc: 0.220000; val_acc: 0.109000\n",
      "loss: 70.459971 after (Iteration 5 / 40)\n",
      "loss: 62.839726 after (Iteration 6 / 40)\n",
      "(Epoch 3 / 20) train_acc: 0.280000; val_acc: 0.121000\n",
      "loss: 61.445574 after (Iteration 7 / 40)\n",
      "loss: 56.637994 after (Iteration 8 / 40)\n",
      "(Epoch 4 / 20) train_acc: 0.320000; val_acc: 0.126000\n",
      "loss: 58.036014 after (Iteration 9 / 40)\n",
      "loss: 55.809203 after (Iteration 10 / 40)\n",
      "(Epoch 5 / 20) train_acc: 0.360000; val_acc: 0.140000\n",
      "loss: 55.485115 after (Iteration 11 / 40)\n",
      "loss: 53.498415 after (Iteration 12 / 40)\n",
      "(Epoch 6 / 20) train_acc: 0.490000; val_acc: 0.126000\n",
      "loss: 54.577703 after (Iteration 13 / 40)\n",
      "loss: 54.339056 after (Iteration 14 / 40)\n",
      "(Epoch 7 / 20) train_acc: 0.570000; val_acc: 0.110000\n",
      "loss: 53.572140 after (Iteration 15 / 40)\n",
      "loss: 53.003268 after (Iteration 16 / 40)\n",
      "(Epoch 8 / 20) train_acc: 0.590000; val_acc: 0.135000\n",
      "loss: 53.052788 after (Iteration 17 / 40)\n",
      "loss: 52.504172 after (Iteration 18 / 40)\n",
      "(Epoch 9 / 20) train_acc: 0.640000; val_acc: 0.133000\n",
      "loss: 52.870134 after (Iteration 19 / 40)\n",
      "loss: 52.510867 after (Iteration 20 / 40)\n",
      "(Epoch 10 / 20) train_acc: 0.630000; val_acc: 0.128000\n",
      "loss: 53.201814 after (Iteration 21 / 40)\n",
      "loss: 52.159396 after (Iteration 22 / 40)\n",
      "(Epoch 11 / 20) train_acc: 0.770000; val_acc: 0.133000\n",
      "loss: 52.106355 after (Iteration 23 / 40)\n",
      "loss: 51.793813 after (Iteration 24 / 40)\n",
      "(Epoch 12 / 20) train_acc: 0.810000; val_acc: 0.137000\n",
      "loss: 52.207142 after (Iteration 25 / 40)\n",
      "loss: 51.678141 after (Iteration 26 / 40)\n",
      "(Epoch 13 / 20) train_acc: 0.730000; val_acc: 0.139000\n",
      "loss: 51.749702 after (Iteration 27 / 40)\n",
      "loss: 51.432275 after (Iteration 28 / 40)\n",
      "(Epoch 14 / 20) train_acc: 0.900000; val_acc: 0.137000\n",
      "loss: 51.284346 after (Iteration 29 / 40)\n",
      "loss: 51.222578 after (Iteration 30 / 40)\n",
      "(Epoch 15 / 20) train_acc: 0.940000; val_acc: 0.136000\n",
      "loss: 51.224346 after (Iteration 31 / 40)\n",
      "loss: 51.154177 after (Iteration 32 / 40)\n",
      "(Epoch 16 / 20) train_acc: 0.950000; val_acc: 0.140000\n",
      "loss: 51.106354 after (Iteration 33 / 40)\n",
      "loss: 51.167664 after (Iteration 34 / 40)\n",
      "(Epoch 17 / 20) train_acc: 0.940000; val_acc: 0.137000\n",
      "loss: 51.019366 after (Iteration 35 / 40)\n",
      "loss: 51.205920 after (Iteration 36 / 40)\n",
      "(Epoch 18 / 20) train_acc: 0.990000; val_acc: 0.133000\n",
      "loss: 51.038382 after (Iteration 37 / 40)\n",
      "loss: 50.977734 after (Iteration 38 / 40)\n",
      "(Epoch 19 / 20) train_acc: 0.980000; val_acc: 0.134000\n",
      "loss: 51.326121 after (Iteration 39 / 40)\n",
      "loss: 50.985156 after (Iteration 40 / 40)\n",
      "(Epoch 20 / 20) train_acc: 0.980000; val_acc: 0.135000\n"
     ]
    },
    {
     "data": {
      "text/plain": [
       "0.14230000000000001"
      ]
     },
     "execution_count": 2,
     "metadata": {},
     "output_type": "execute_result"
    }
   ],
   "source": [
    "filters_list = [32]\n",
    "dims,out_dims = ConvolutionalNeuralNetwork.generateConvLayerDimensions(filters_list)\n",
    "modl = ConvolutionalNeuralNetwork(dims,out_dims,weight_scale=0.05,filter_size=3,reg=0.05)\n",
    "worker = Worker(modl,StochasticGradientUpdate(1e-3),\n",
    "                train_size=100,epochs_count=20,batch_size=50,lr_decay=0.95,debug=True,print_every=1)\n",
    "worker.train()\n",
    "worker.test()"
   ]
  },
  {
   "cell_type": "code",
   "execution_count": null,
   "metadata": {
    "collapsed": true
   },
   "outputs": [],
   "source": []
  }
 ],
 "metadata": {
  "kernelspec": {
   "display_name": "Python 3",
   "language": "python",
   "name": "python3"
  },
  "language_info": {
   "codemirror_mode": {
    "name": "ipython",
    "version": 3
   },
   "file_extension": ".py",
   "mimetype": "text/x-python",
   "name": "python",
   "nbconvert_exporter": "python",
   "pygments_lexer": "ipython3",
   "version": "3.5.1"
  }
 },
 "nbformat": 4,
 "nbformat_minor": 0
}
