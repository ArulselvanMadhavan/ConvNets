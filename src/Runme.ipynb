{
 "cells": [
  {
   "cell_type": "markdown",
   "metadata": {},
   "source": [
    "**ConvNets**\n",
    "\n",
    "Some of our functions depend on modules written in C. You need to build them first to be able to import them into python. Run the following command from src/cnn/Layers directory\n",
    "```python\n",
    "python setup_image.py build_ext --inplace\n",
    "```"
   ]
  },
  {
   "cell_type": "code",
   "execution_count": 1,
   "metadata": {
    "collapsed": true
   },
   "outputs": [],
   "source": [
    "import numpy as np\n",
    "from cnn.Worker import Worker\n",
    "from cnn.GradientUpdates.StochasticGradientUpdate import StochasticGradientUpdate\n",
    "from cnn.ConvolutionalNeuralNetwork import ConvolutionalNeuralNetwork\n",
    "%load_ext autoreload\n",
    "%autoreload 2"
   ]
  },
  {
   "cell_type": "code",
   "execution_count": 2,
   "metadata": {
    "collapsed": false
   },
   "outputs": [
    {
     "name": "stdout",
     "output_type": "stream",
     "text": [
      "Loading ../data/train.h5 file\n",
      "List of arrays in this file: \n",
      " KeysViewWithLock(<HDF5 file \"train.h5\" (mode r)>)\n",
      "Loading ../data/test.h5 file\n",
      "List of arrays in this file: \n",
      " KeysViewWithLock(<HDF5 file \"test.h5\" (mode r)>)\n",
      "(50000, 3072)\t(50000,)\t(10000, 3072)\t(10000,)\n",
      "\n",
      "loss: 36.836863 after (Iteration 1 / 40)\n",
      "loss: 17.032953 after (Iteration 2 / 40)\n",
      "(Epoch 1 / 20) train_acc: 0.200000; val_acc: 0.105000\n",
      "loss: 19.387008 after (Iteration 3 / 40)\n",
      "loss: 16.699489 after (Iteration 4 / 40)\n",
      "(Epoch 2 / 20) train_acc: 0.210000; val_acc: 0.127000\n",
      "loss: 17.418682 after (Iteration 5 / 40)\n",
      "loss: 16.182874 after (Iteration 6 / 40)\n",
      "(Epoch 3 / 20) train_acc: 0.250000; val_acc: 0.104000\n",
      "loss: 13.028220 after (Iteration 7 / 40)\n",
      "loss: 7.657148 after (Iteration 8 / 40)\n",
      "(Epoch 4 / 20) train_acc: 0.450000; val_acc: 0.130000\n",
      "loss: 7.209935 after (Iteration 9 / 40)\n",
      "loss: 5.153423 after (Iteration 10 / 40)\n",
      "(Epoch 5 / 20) train_acc: 0.400000; val_acc: 0.141000\n",
      "loss: 4.347636 after (Iteration 11 / 40)\n",
      "loss: 2.364978 after (Iteration 12 / 40)\n",
      "(Epoch 6 / 20) train_acc: 0.520000; val_acc: 0.149000\n",
      "loss: 2.891586 after (Iteration 13 / 40)\n",
      "loss: 3.883840 after (Iteration 14 / 40)\n",
      "(Epoch 7 / 20) train_acc: 0.600000; val_acc: 0.151000\n",
      "loss: 1.253677 after (Iteration 15 / 40)\n",
      "loss: 1.160868 after (Iteration 16 / 40)\n",
      "(Epoch 8 / 20) train_acc: 0.700000; val_acc: 0.144000\n",
      "loss: 0.979697 after (Iteration 17 / 40)\n",
      "loss: 1.879771 after (Iteration 18 / 40)\n",
      "(Epoch 9 / 20) train_acc: 0.730000; val_acc: 0.151000\n",
      "loss: 1.038570 after (Iteration 19 / 40)\n",
      "loss: 1.493726 after (Iteration 20 / 40)\n",
      "(Epoch 10 / 20) train_acc: 0.760000; val_acc: 0.151000\n",
      "loss: 0.843284 after (Iteration 21 / 40)\n",
      "loss: 0.507918 after (Iteration 22 / 40)\n",
      "(Epoch 11 / 20) train_acc: 0.830000; val_acc: 0.151000\n",
      "loss: 0.932288 after (Iteration 23 / 40)\n",
      "loss: 0.493802 after (Iteration 24 / 40)\n",
      "(Epoch 12 / 20) train_acc: 0.840000; val_acc: 0.156000\n",
      "loss: 0.653267 after (Iteration 25 / 40)\n",
      "loss: 1.259619 after (Iteration 26 / 40)\n",
      "(Epoch 13 / 20) train_acc: 0.790000; val_acc: 0.171000\n",
      "loss: 0.491711 after (Iteration 27 / 40)\n",
      "loss: 0.691401 after (Iteration 28 / 40)\n",
      "(Epoch 14 / 20) train_acc: 0.850000; val_acc: 0.165000\n",
      "loss: 0.895877 after (Iteration 29 / 40)\n",
      "loss: 0.176406 after (Iteration 30 / 40)\n",
      "(Epoch 15 / 20) train_acc: 0.930000; val_acc: 0.153000\n",
      "loss: 0.184314 after (Iteration 31 / 40)\n",
      "loss: 0.393142 after (Iteration 32 / 40)\n",
      "(Epoch 16 / 20) train_acc: 0.900000; val_acc: 0.159000\n",
      "loss: 0.284346 after (Iteration 33 / 40)\n",
      "loss: 0.344611 after (Iteration 34 / 40)\n",
      "(Epoch 17 / 20) train_acc: 0.960000; val_acc: 0.163000\n",
      "loss: 0.168275 after (Iteration 35 / 40)\n",
      "loss: 0.153599 after (Iteration 36 / 40)\n",
      "(Epoch 18 / 20) train_acc: 0.960000; val_acc: 0.163000\n",
      "loss: 0.151831 after (Iteration 37 / 40)\n",
      "loss: 0.165941 after (Iteration 38 / 40)\n",
      "(Epoch 19 / 20) train_acc: 0.980000; val_acc: 0.168000\n",
      "loss: 0.264296 after (Iteration 39 / 40)\n",
      "loss: 0.208856 after (Iteration 40 / 40)\n",
      "(Epoch 20 / 20) train_acc: 0.990000; val_acc: 0.169000\n"
     ]
    },
    {
     "data": {
      "text/plain": [
       "0.14710000000000001"
      ]
     },
     "execution_count": 2,
     "metadata": {},
     "output_type": "execute_result"
    }
   ],
   "source": [
    "filters_list = [32]\n",
    "dims,out_dims = ConvolutionalNeuralNetwork.generateConvLayerDimensions(filters_list)\n",
    "modl = ConvolutionalNeuralNetwork(dims,out_dims,weight_scale=0.05,filter_size=3)\n",
    "worker = Worker(modl,StochasticGradientUpdate(1e-3),\n",
    "                train_size=100,\n",
    "                epochs_count=20,\n",
    "                batch_size=50,\n",
    "                lr_decay=0.95,\n",
    "                debug=True,\n",
    "                debug_every=1)\n",
    "worker.train()\n",
    "worker.test()"
   ]
  },
  {
   "cell_type": "code",
   "execution_count": null,
   "metadata": {
    "collapsed": true
   },
   "outputs": [],
   "source": []
  }
 ],
 "metadata": {
  "kernelspec": {
   "display_name": "Python 3",
   "language": "python",
   "name": "python3"
  },
  "language_info": {
   "codemirror_mode": {
    "name": "ipython",
    "version": 3
   },
   "file_extension": ".py",
   "mimetype": "text/x-python",
   "name": "python",
   "nbconvert_exporter": "python",
   "pygments_lexer": "ipython3",
   "version": "3.5.1"
  }
 },
 "nbformat": 4,
 "nbformat_minor": 0
}
